{
  "nbformat": 4,
  "nbformat_minor": 0,
  "metadata": {
    "colab": {
      "name": "Papier_kamień_nożyce.ipynb",
      "provenance": [],
      "collapsed_sections": []
    },
    "kernelspec": {
      "name": "python3",
      "display_name": "Python 3"
    },
    "language_info": {
      "name": "python"
    },
    "accelerator": "GPU"
  },
  "cells": [
    {
      "cell_type": "markdown",
      "metadata": {
        "id": "XrsGFQIkrVkd"
      },
      "source": [
        "# Papier, kamień, nożyce\n",
        "Autorka: Małgorzata Rucka\n",
        "\n",
        "Zadanie polegało na stworzeniu datasetu na podstawie obrazów przedstawiających pojedyncze ręce w grze papier, kamień, nożyce który wygląda jak dwie osoby grające w grę wraz z ich labelami. Zaprojektowałam to w postaci zwracającego takie zdjęcie z labelem w postaci one hot. Ostatecznie z powodu przypadkowości wybieranych zdjęć, końcowy wynik modelu różnił się trochę za każdym razem po wytrenowaniu modelu. "
      ]
    },
    {
      "cell_type": "code",
      "metadata": {
        "colab": {
          "base_uri": "https://localhost:8080/",
          "height": 52
        },
        "id": "srH6_-edAj0q",
        "outputId": "85e43844-486a-43af-8e9d-5df6ee3ef1a9"
      },
      "source": [
        "import os\n",
        "import random\n",
        "import cv2\n",
        "import keras\n",
        "from PIL import Image\n",
        "import matplotlib.pyplot as plt\n",
        "import numpy as np\n",
        "import tensorflow\n",
        "from sklearn.preprocessing import MultiLabelBinarizer\n",
        "from sklearn import metrics\n",
        "from zipfile import ZipFile\n",
        "from tensorflow.keras.models import Sequential\n",
        "from tensorflow.keras.layers import Conv2D, MaxPooling2D, Flatten, Dropout, Dense, BatchNormalization\n",
        "from tensorflow.keras.optimizers import Adam\n",
        "\n",
        " \n",
        "def decode_labels(label1, label2):\n",
        "    mlb = MultiLabelBinarizer(classes=[('paper'), ('rock'), ('scissors')])\n",
        "    return mlb.fit_transform([(label1, label2)])\n",
        "\n",
        "def one_hot_to_string(vect):\n",
        "  labels = ''\n",
        "  if sum(sum(vect)) == 1:\n",
        "    if vect[0] == 1:\n",
        "      labels += 'paper + paper'\n",
        "    elif vect[1] == 1:\n",
        "      labels += 'rock + rock'\n",
        "    elif vect[2] == 1:\n",
        "      labels += 'scissors + scissors'\n",
        "  else:\n",
        "    if vect[0] == 1:\n",
        "      labels += 'paper +'\n",
        "    if vect[1] == 1 and not labels:\n",
        "      labels += 'rock +'\n",
        "    elif vect[1] == 1:\n",
        "      labels += 'rock'\n",
        "    if vect[2] == 1:\n",
        "      labels += 'scissors'\n",
        "  return labels\n",
        "\n",
        "def get_data(filepath='drive/MyDrive/rps', batch_size=16):\n",
        "    labels = ['paper', 'rock', 'scissors']\n",
        "    while True:\n",
        " \n",
        "        X, y = [], []\n",
        "        for i in range(batch_size):\n",
        "            label1 = random.choice(labels)\n",
        "            label2 = random.choice(labels)\n",
        "            filename1 = random.choice(os.listdir(os.path.join(filepath, label1)))\n",
        "            filename2 = random.choice(os.listdir(os.path.join(filepath, label2)))\n",
        "            path1 = os.path.join(filepath, label1, filename1)\n",
        "            path2 = os.path.join(filepath, label2, filename2)\n",
        "            img_right = Image.open(path1).rotate(90).resize([50,50])\n",
        "            img_left = Image.open(path2).rotate(-90).resize([50,50])\n",
        "            image = cv2.hconcat([np.array(img_left)/255, np.array(img_right)/255])\n",
        " \n",
        "            label_out = decode_labels(label1, label2)\n",
        "            X.append(image)\n",
        "            y.append(label_out[0])\n",
        "        yield np.array(X), np.array(y)\n",
        " \n",
        " \n",
        "def get_model(n_outputs):\n",
        "    model = Sequential([\n",
        "        Conv2D(16, (5, 5), activation='relu', input_shape=(50, 100, 4)),\n",
        "        MaxPooling2D(2, 2),\n",
        "        Dropout(0.05),\n",
        "        Conv2D(32, (5, 5), activation='relu'),\n",
        "        MaxPooling2D(2, 2),\n",
        "        Dropout(0.05),\n",
        "        Conv2D(64, (5, 5), activation='relu'),\n",
        "        MaxPooling2D(2, 2),\n",
        "        Dropout(0.05),\n",
        "        Flatten(),\n",
        "        Dense(128, activation='relu'),\n",
        "        Dropout(0.3),\n",
        "        Dense(n_outputs, activation='sigmoid')\n",
        "    ])\n",
        "    model.compile(loss=keras.losses.BinaryCrossentropy(), optimizer='adam', metrics=['accuracy'] )\n",
        "    return model\n",
        " \n",
        "'''if not os.path.exists(\"rps-test-set.zip\"):\n",
        "    wget.download('https://storage.googleapis.com/laurencemoroney-blog.appspot.com/rps-test-set.zip')\n",
        "    with ZipFile('rps-test-set.zip', 'r') as zipObj:\n",
        "        zipObj.extractall()\n",
        "if not os.path.exists(\"rps.zip\"):\n",
        "    wget.download('https://storage.googleapis.com/laurencemoroney-blog.appspot.com/rps.zip')\n",
        "    with ZipFile('rps.zip', 'r') as zipObj:\n",
        "        zipObj.extractall()'''\n"
      ],
      "execution_count": 1,
      "outputs": [
        {
          "output_type": "execute_result",
          "data": {
            "application/vnd.google.colaboratory.intrinsic+json": {
              "type": "string"
            },
            "text/plain": [
              "'if not os.path.exists(\"rps-test-set.zip\"):\\n    wget.download(\\'https://storage.googleapis.com/laurencemoroney-blog.appspot.com/rps-test-set.zip\\')\\n    with ZipFile(\\'rps-test-set.zip\\', \\'r\\') as zipObj:\\n        zipObj.extractall()\\nif not os.path.exists(\"rps.zip\"):\\n    wget.download(\\'https://storage.googleapis.com/laurencemoroney-blog.appspot.com/rps.zip\\')\\n    with ZipFile(\\'rps.zip\\', \\'r\\') as zipObj:\\n        zipObj.extractall()'"
            ]
          },
          "metadata": {
            "tags": []
          },
          "execution_count": 1
        }
      ]
    },
    {
      "cell_type": "markdown",
      "metadata": {
        "id": "rLOHAT3bOkIm"
      },
      "source": [
        "Niestety accuracy w trakcie trenowania nie pokrywa się z prawdziwym accuracy - sprawdzam je na koniec"
      ]
    },
    {
      "cell_type": "code",
      "metadata": {
        "colab": {
          "base_uri": "https://localhost:8080/"
        },
        "id": "AJy8T7OZRatr",
        "outputId": "7b82704f-cfda-4c99-e4c9-bc6979684d12"
      },
      "source": [
        "cp_callbacks = tensorflow.keras.callbacks.ModelCheckpoint(filepath = 'drive/MyDrive/model10', save_weights_only = True, verbose = 1)\n",
        "es_callbacks = tensorflow.keras.callbacks.EarlyStopping(monitor = 'val_loss', patience = 4)\n",
        "\n",
        "model = get_model(3)\n",
        "model.summary()\n",
        "H = model.fit(x=get_data(),epochs=8, steps_per_epoch = 70, validation_data = get_data(filepath = 'drive/MyDrive/rps-test-set'), validation_steps = 70, callbacks = [cp_callbacks, es_callbacks])"
      ],
      "execution_count": 6,
      "outputs": [
        {
          "output_type": "stream",
          "text": [
            "Model: \"sequential_2\"\n",
            "_________________________________________________________________\n",
            "Layer (type)                 Output Shape              Param #   \n",
            "=================================================================\n",
            "conv2d_6 (Conv2D)            (None, 46, 96, 16)        1616      \n",
            "_________________________________________________________________\n",
            "max_pooling2d_6 (MaxPooling2 (None, 23, 48, 16)        0         \n",
            "_________________________________________________________________\n",
            "dropout_8 (Dropout)          (None, 23, 48, 16)        0         \n",
            "_________________________________________________________________\n",
            "conv2d_7 (Conv2D)            (None, 19, 44, 32)        12832     \n",
            "_________________________________________________________________\n",
            "max_pooling2d_7 (MaxPooling2 (None, 9, 22, 32)         0         \n",
            "_________________________________________________________________\n",
            "dropout_9 (Dropout)          (None, 9, 22, 32)         0         \n",
            "_________________________________________________________________\n",
            "conv2d_8 (Conv2D)            (None, 5, 18, 64)         51264     \n",
            "_________________________________________________________________\n",
            "max_pooling2d_8 (MaxPooling2 (None, 2, 9, 64)          0         \n",
            "_________________________________________________________________\n",
            "dropout_10 (Dropout)         (None, 2, 9, 64)          0         \n",
            "_________________________________________________________________\n",
            "flatten_2 (Flatten)          (None, 1152)              0         \n",
            "_________________________________________________________________\n",
            "dense_4 (Dense)              (None, 128)               147584    \n",
            "_________________________________________________________________\n",
            "dropout_11 (Dropout)         (None, 128)               0         \n",
            "_________________________________________________________________\n",
            "dense_5 (Dense)              (None, 3)                 387       \n",
            "=================================================================\n",
            "Total params: 213,683\n",
            "Trainable params: 213,683\n",
            "Non-trainable params: 0\n",
            "_________________________________________________________________\n",
            "Epoch 1/8\n",
            "70/70 [==============================] - 41s 579ms/step - loss: 0.6899 - accuracy: 0.4366 - val_loss: 0.6847 - val_accuracy: 0.5500\n",
            "\n",
            "Epoch 00001: saving model to drive/MyDrive/model10\n",
            "Epoch 2/8\n",
            "70/70 [==============================] - 39s 567ms/step - loss: 0.6045 - accuracy: 0.5330 - val_loss: 0.5691 - val_accuracy: 0.4982\n",
            "\n",
            "Epoch 00002: saving model to drive/MyDrive/model10\n",
            "Epoch 3/8\n",
            "70/70 [==============================] - 40s 575ms/step - loss: 0.3842 - accuracy: 0.5580 - val_loss: 0.3948 - val_accuracy: 0.5143\n",
            "\n",
            "Epoch 00003: saving model to drive/MyDrive/model10\n",
            "Epoch 4/8\n",
            "70/70 [==============================] - 40s 574ms/step - loss: 0.2240 - accuracy: 0.5705 - val_loss: 0.3350 - val_accuracy: 0.5188\n",
            "\n",
            "Epoch 00004: saving model to drive/MyDrive/model10\n",
            "Epoch 5/8\n",
            "70/70 [==============================] - 40s 576ms/step - loss: 0.1308 - accuracy: 0.5982 - val_loss: 0.2191 - val_accuracy: 0.5705\n",
            "\n",
            "Epoch 00005: saving model to drive/MyDrive/model10\n",
            "Epoch 6/8\n",
            "70/70 [==============================] - 40s 579ms/step - loss: 0.0976 - accuracy: 0.5920 - val_loss: 0.2661 - val_accuracy: 0.5375\n",
            "\n",
            "Epoch 00006: saving model to drive/MyDrive/model10\n",
            "Epoch 7/8\n",
            "70/70 [==============================] - 40s 585ms/step - loss: 0.0657 - accuracy: 0.6098 - val_loss: 0.2452 - val_accuracy: 0.5634\n",
            "\n",
            "Epoch 00007: saving model to drive/MyDrive/model10\n",
            "Epoch 8/8\n",
            "70/70 [==============================] - 40s 574ms/step - loss: 0.0487 - accuracy: 0.6062 - val_loss: 0.2020 - val_accuracy: 0.5982\n",
            "\n",
            "Epoch 00008: saving model to drive/MyDrive/model10\n"
          ],
          "name": "stdout"
        }
      ]
    },
    {
      "cell_type": "code",
      "metadata": {
        "colab": {
          "base_uri": "https://localhost:8080/"
        },
        "id": "4SH2m4w4dIv2",
        "outputId": "e7c640e9-853f-428f-ae9b-371d2a9ceae2"
      },
      "source": [
        "Xtest, ytest= next(get_data(filepath = 'drive/MyDrive/rps-test-set', batch_size = 1000))\n",
        "perfomance_y =  model.predict(Xtest)\n",
        "print('Accuracy na zbiorze walidacyjnym:',metrics.accuracy_score(ytest, (perfomance_y>0.5).astype('uint8')))\n",
        "Xtest, ytest= next(get_data(filepath = 'drive/MyDrive/rps', batch_size = 1000))\n",
        "perfomance_y =  model.predict(Xtest)\n",
        "print('Accuracy na zbiorze treningowym:',metrics.accuracy_score(ytest, (perfomance_y>0.5).astype('uint8')))"
      ],
      "execution_count": 17,
      "outputs": [
        {
          "output_type": "stream",
          "text": [
            "Accuracy na zbiorze walidacyjnym: 0.801\n",
            "Accuracy na zbiorze treningowym: 0.993\n"
          ],
          "name": "stdout"
        }
      ]
    },
    {
      "cell_type": "code",
      "metadata": {
        "colab": {
          "base_uri": "https://localhost:8080/",
          "height": 252
        },
        "id": "wFJ_SgC-Qtdf",
        "outputId": "545ae174-c76b-4f9e-8b60-c64b2ba51dd7"
      },
      "source": [
        "Xtest, ytest= next(get_data(filepath = 'drive/MyDrive/rps-test-set', batch_size = 1))\n",
        "prediction = model.predict(Xtest)\n",
        "print((prediction>0.5).astype('uint8'))\n",
        "print((ytest))\n",
        "plt.imshow(Xtest[0,:,:,:])\n",
        "plt.show()"
      ],
      "execution_count": 13,
      "outputs": [
        {
          "output_type": "stream",
          "text": [
            "[[0 1 1]]\n",
            "[[0 1 1]]\n"
          ],
          "name": "stdout"
        },
        {
          "output_type": "display_data",
          "data": {
            "image/png": "[encoded data removed]",
            "text/plain": [
              "<Figure size 432x288 with 1 Axes>"
            ]
          },
          "metadata": {
            "tags": [],
            "needs_background": "light"
          }
        }
      ]
    },
    {
      "cell_type": "code",
      "metadata": {
        "id": "G4DjKiHsm23E",
        "colab": {
          "base_uri": "https://localhost:8080/",
          "height": 299
        },
        "outputId": "b02fd384-67f0-4f3d-ec93-f7fc5430738a"
      },
      "source": [
        "plt.style.use('ggplot')\n",
        "plt.figure()\n",
        "N = 8\n",
        "plt.plot(np.arange(0,N), H.history['loss'], label = 'train_loss')\n",
        "plt.plot(np.arange(0,N), H.history['val_loss'], label = 'val_loss')\n",
        "plt.plot(np.arange(0,N), H.history['accuracy'], label = 'train_accuracy')\n",
        "plt.plot(np.arange(0,N), H.history['val_accuracy'], label = 'val_accuracy')\n",
        "plt.title('Loss i accuracy w trakcie treningu')\n",
        "plt.xlabel('Epoch #')\n",
        "plt.ylabel('Loss/Accuracy')\n",
        "plt.legend(loc = 'lower left')\n",
        "plt.show()"
      ],
      "execution_count": 27,
      "outputs": [
        {
          "output_type": "display_data",
          "data": {
            "image/png": "[encoded data removed]",
            "text/plain": [
              "<Figure size 432x288 with 1 Axes>"
            ]
          },
          "metadata": {
            "tags": []
          }
        }
      ]
    },
    {
      "cell_type": "markdown",
      "metadata": {
        "id": "A7l1pGCLO14z"
      },
      "source": [
        "Ostateczne accuracy na zbiorze walidacyjnym to około 78-80%. Możemy zauważyć duży overfitting, który według mnie był nieunikniony biorąc pod uwagę jak wygląda zbiór walidycyjny - nie posiadamy 3000 zdjęć różnych rąk, lecz kilkadziesiąt rąk pod różnym kątem. Moim zdaniem warty spróbowania byłby transfer learning na sieci poprzednio wytrenowanej na zdjęciach rąk, ale niestety z powodu braku czasu nie udało się tego przetestować."
      ]
    }
  ]
}
